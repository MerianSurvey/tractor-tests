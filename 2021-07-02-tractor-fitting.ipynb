{
 "cells": [
  {
   "cell_type": "markdown",
   "id": "demographic-ebony",
   "metadata": {},
   "source": [
    "In this notebook, we are also running `tractor` with forced photometry. First, we run `tractor` on the `i-band` images as per the blob-by-blob prescription in the `legacypipe`. Then we pass the model parameters such as position, shape, and Sersic index to initialize `tractor` in the other bands."
   ]
  },
  {
   "cell_type": "code",
   "execution_count": 2,
   "id": "chief-artist",
   "metadata": {},
   "outputs": [],
   "source": [
    "# import packages\n",
    "%load_ext autoreload\n",
    "%autoreload 2\n",
    "\n",
    "import numpy as np\n",
    "import matplotlib.pyplot as plt\n",
    "\n",
    "from astropy.utils.data import download_file, clear_download_cache\n",
    "from astropy.table import Table\n",
    "from astropy.coordinates import SkyCoord\n",
    "from astropy.io import fits\n",
    "from astropy import wcs\n",
    "\n",
    "\n",
    "import kuaizi\n",
    "from kuaizi.tractor.utils import tractor_hsc_sep_blob_by_blob\n",
    "from kuaizi.tractor.utils import tractor_blob_by_blob\n",
    "from kuaizi.download import download_decals_cutout\n",
    "from kuaizi.tractor.utils import getTargetProperty\n",
    "from kuaizi.detection import Data\n",
    "from kuaizi.utils import padding_PSF \n",
    "\n",
    "import pickle\n",
    "from IPython.display import clear_output\n",
    "\n",
    "import tractor"
   ]
  },
  {
   "cell_type": "code",
   "execution_count": 3,
   "id": "pleasant-viking",
   "metadata": {},
   "outputs": [
    {
     "data": {
      "text/plain": [
       "'0.1.dev109+g054975f'"
      ]
     },
     "execution_count": 3,
     "metadata": {},
     "output_type": "execute_result"
    }
   ],
   "source": [
    "# print version\n",
    "kuaizi.__version__"
   ]
  },
  {
   "cell_type": "markdown",
   "id": "established-junction",
   "metadata": {},
   "source": [
    "# **Focusing on one ladybug...**"
   ]
  },
  {
   "cell_type": "code",
   "execution_count": 4,
   "id": "postal-inclusion",
   "metadata": {},
   "outputs": [
    {
     "name": "stdout",
     "output_type": "stream",
     "text": [
      "The fits file contains the following identifying information:\n",
      "     name                            prefix                                ra               dec               radius      \n",
      "                                                                                                             arcsec      \n",
      "----------- ------------------------------------------------------ ---------------- ------------------ ------------------\n",
      "ladybug_1_y /tigress/MERIAN/poststamps/ladybug/1/1/hsc/ladybug_1_y 149.601282768496 1.6225202529022225 12.698968926649123\n"
     ]
    }
   ],
   "source": [
    "## first, let's focus on one of the ladybug galaxies... \n",
    "\n",
    "# load catalog (to get the object information)\n",
    "obj_cat = Table.read(\n",
    "    '/home/diana/Research/ladybug_tractor/ladybug/ladybug-2021-03-03.fits'\n",
    "    )\n",
    "\n",
    "number = '1'\n",
    "\n",
    "# match ladybug name\n",
    "index = np.where(obj_cat['name'] == 'ladybug_'+number+'_y')[0][0]\n",
    "\n",
    "print(\n",
    "    'The fits file contains the following identifying information:\\n', \n",
    "    obj_cat[index]\n",
    "    )"
   ]
  },
  {
   "cell_type": "code",
   "execution_count": 5,
   "id": "accepting-scout",
   "metadata": {},
   "outputs": [],
   "source": [
    "# initialize channels\n",
    "ref_channel = ['i']\n",
    "channels = ['i', 'N708']\n",
    "forced_channels = ['N708']\n",
    "\n",
    "# initialize ladybug \n",
    "obj = obj_cat[index]\n",
    "obj_name = obj['name'].rstrip('_y')\n",
    "obj_id = obj_name.lstrip('ladybug_')\n",
    "\n",
    "# obtain coordinates of ladybug\n",
    "coord = SkyCoord(obj['ra'], obj['dec'], frame = 'icrs', unit = 'deg')"
   ]
  },
  {
   "cell_type": "code",
   "execution_count": 16,
   "id": "certified-senior",
   "metadata": {},
   "outputs": [],
   "source": [
    "# create list of cutouts and psfs of ladybug\n",
    "cutout_hsc = [\n",
    "    fits.open(\n",
    "        f'/home/diana/Research/ladybug_tractor/ladybug/1/{obj_id}/hsc/ladybug_{obj_id}_{filt}.fits'\n",
    "    ) for filt in ref_channel]\n",
    "\n",
    "cutout_merian = [fits.open(\n",
    "        f'/home/diana/Research/{forced_channels[0]}/ladybug/{obj_id}/ladybug_{obj_id}_wide_{forced_channels[0]}.fits'\n",
    "              )]\n",
    "\n",
    "# variance (ie for weights)\n",
    "var_merian = fits.open(\n",
    "        f'/home/diana/Research/{forced_channels[0]}/ladybug/{obj_id}/w_ladybug_{obj_id}_wide_{forced_channels[0]}.fits'\n",
    "              )\n",
    "\n",
    "psf_list_hsc = [\n",
    "    fits.open(\n",
    "        f'/home/diana/Research/ladybug_tractor/ladybug/1/{obj_id}/hsc/ladybug_{obj_id}_{filt}_psf.fits'\n",
    "    ) for filt in ref_channel\n",
    "]\n",
    "psf_list_merian = [fits.open(\n",
    "        f'/home/diana/Research/{forced_channels[0]}/ladybug/{obj_id}/ladybug_{obj_id}_wide_{forced_channels[0]}_psf.fits'\n",
    "                )]\n",
    "psf_list_all = np.append(psf_list_hsc, psf_list_merian)"
   ]
  },
  {
   "cell_type": "code",
   "execution_count": 17,
   "id": "rolled-halifax",
   "metadata": {},
   "outputs": [],
   "source": [
    "# images and wcs\n",
    "images_hsc = np.array([hdu[1].data for hdu in cutout_hsc])\n",
    "images_merian = np.array([hdu[0].data for hdu in cutout_merian]) # data is stored elsewhere for Merian\n",
    "images_all = np.append(images_hsc, images_merian)\n",
    "\n",
    "w_hsc = np.array([wcs.WCS(hdu[1].header) for hdu in cutout_hsc]) \n",
    "w_merian = np.array([wcs.WCS(hdu[0].header) for hdu in cutout_merian])\n",
    "w_all = np.append(w_hsc, w_merian) # not all bands share the same WCS!"
   ]
  },
  {
   "cell_type": "code",
   "execution_count": 59,
   "id": "atmospheric-pathology",
   "metadata": {},
   "outputs": [
    {
     "name": "stdout",
     "output_type": "stream",
     "text": [
      "### `ladybug_1` i-band\n",
      "    Detected 15 objects\n"
     ]
    },
    {
     "ename": "AttributeError",
     "evalue": "'SlicedFITSWCS' object has no attribute 'wcs_pix2world'",
     "output_type": "error",
     "traceback": [
      "\u001b[0;31m---------------------------------------------------------------------------\u001b[0m",
      "\u001b[0;31mAttributeError\u001b[0m                            Traceback (most recent call last)",
      "\u001b[0;32m<ipython-input-59-0e138af7da1d>\u001b[0m in \u001b[0;36m<module>\u001b[0;34m\u001b[0m\n\u001b[1;32m     23\u001b[0m model_dict[ref_filt] = tractor_hsc_sep_blob_by_blob(obj, ref_filt, channels, data_hsc, \n\u001b[1;32m     24\u001b[0m                                        \u001b[0mfreeze_dict\u001b[0m \u001b[0;34m=\u001b[0m \u001b[0;34m{\u001b[0m\u001b[0;34m'pos'\u001b[0m\u001b[0;34m:\u001b[0m \u001b[0;32mTrue\u001b[0m\u001b[0;34m,\u001b[0m \u001b[0;34m'shape'\u001b[0m\u001b[0;34m:\u001b[0m \u001b[0;32mFalse\u001b[0m\u001b[0;34m,\u001b[0m \u001b[0;34m'sersicindex'\u001b[0m\u001b[0;34m:\u001b[0m \u001b[0;32mFalse\u001b[0m\u001b[0;34m}\u001b[0m\u001b[0;34m,\u001b[0m\u001b[0;34m\u001b[0m\u001b[0;34m\u001b[0m\u001b[0m\n\u001b[0;32m---> 25\u001b[0;31m                                        verbose=True)\n\u001b[0m\u001b[1;32m     26\u001b[0m \u001b[0;34m\u001b[0m\u001b[0m\n\u001b[1;32m     27\u001b[0m \u001b[0msources_dict\u001b[0m \u001b[0;34m=\u001b[0m \u001b[0;34m{\u001b[0m\u001b[0;34m}\u001b[0m\u001b[0;34m\u001b[0m\u001b[0;34m\u001b[0m\u001b[0m\n",
      "\u001b[0;32m~/Research/packages/kuaizi/kuaizi/tractor/utils.py\u001b[0m in \u001b[0;36mtractor_hsc_sep_blob_by_blob\u001b[0;34m(obj, filt, channels, data, freeze_dict, ref_source, verbose)\u001b[0m\n\u001b[1;32m   1334\u001b[0m         \u001b[0mdeblend_nthresh\u001b[0m\u001b[0;34m=\u001b[0m\u001b[0;36m48\u001b[0m\u001b[0;34m,\u001b[0m\u001b[0;34m\u001b[0m\u001b[0;34m\u001b[0m\u001b[0m\n\u001b[1;32m   1335\u001b[0m         \u001b[0mdeblend_cont\u001b[0m\u001b[0;34m=\u001b[0m\u001b[0;36m0.005\u001b[0m\u001b[0;34m,\u001b[0m\u001b[0;34m\u001b[0m\u001b[0;34m\u001b[0m\u001b[0m\n\u001b[0;32m-> 1336\u001b[0;31m         sky_subtract=True)\n\u001b[0m\u001b[1;32m   1337\u001b[0m \u001b[0;34m\u001b[0m\u001b[0m\n\u001b[1;32m   1338\u001b[0m     \u001b[0mobj_cat_sep\u001b[0m\u001b[0;34m[\u001b[0m\u001b[0;34m'a_arcsec'\u001b[0m\u001b[0;34m]\u001b[0m \u001b[0;34m=\u001b[0m \u001b[0mobj_cat_sep\u001b[0m\u001b[0;34m[\u001b[0m\u001b[0;34m'a'\u001b[0m\u001b[0;34m]\u001b[0m \u001b[0;34m*\u001b[0m \u001b[0mHSC_pixel_scale\u001b[0m\u001b[0;34m\u001b[0m\u001b[0;34m\u001b[0m\u001b[0m\n",
      "\u001b[0;32m~/Research/packages/kuaizi/kuaizi/tractor/utils.py\u001b[0m in \u001b[0;36mmakeCatalog\u001b[0;34m(datas, layer_ind, mask, lvl, method, convolve, conv_radius, match_gaia, show_fig, visual_gaia, **kwargs)\u001b[0m\n\u001b[1;32m    101\u001b[0m     \u001b[0;31m## RA and Dec\u001b[0m\u001b[0;34m\u001b[0m\u001b[0;34m\u001b[0m\u001b[0;34m\u001b[0m\u001b[0m\n\u001b[1;32m    102\u001b[0m     \u001b[0;32mif\u001b[0m \u001b[0mlen\u001b[0m\u001b[0;34m(\u001b[0m\u001b[0mdatas\u001b[0m\u001b[0;34m)\u001b[0m \u001b[0;34m==\u001b[0m \u001b[0;36m1\u001b[0m\u001b[0;34m:\u001b[0m\u001b[0;34m\u001b[0m\u001b[0;34m\u001b[0m\u001b[0m\n\u001b[0;32m--> 103\u001b[0;31m         \u001b[0mra\u001b[0m\u001b[0;34m,\u001b[0m \u001b[0mdec\u001b[0m \u001b[0;34m=\u001b[0m \u001b[0mdatas\u001b[0m\u001b[0;34m[\u001b[0m\u001b[0;36m0\u001b[0m\u001b[0;34m]\u001b[0m\u001b[0;34m.\u001b[0m\u001b[0mwcs\u001b[0m\u001b[0;34m[\u001b[0m\u001b[0;36m0\u001b[0m\u001b[0;34m]\u001b[0m\u001b[0;34m.\u001b[0m\u001b[0mwcs_pix2world\u001b[0m\u001b[0;34m(\u001b[0m\u001b[0mobj_cat\u001b[0m\u001b[0;34m[\u001b[0m\u001b[0;34m'x'\u001b[0m\u001b[0;34m]\u001b[0m\u001b[0;34m,\u001b[0m \u001b[0mobj_cat\u001b[0m\u001b[0;34m[\u001b[0m\u001b[0;34m'y'\u001b[0m\u001b[0;34m]\u001b[0m\u001b[0;34m,\u001b[0m \u001b[0;36m0\u001b[0m\u001b[0;34m)\u001b[0m\u001b[0;34m\u001b[0m\u001b[0;34m\u001b[0m\u001b[0m\n\u001b[0m\u001b[1;32m    104\u001b[0m         obj_cat.add_columns([Column(data=ra, name='ra'),\n\u001b[1;32m    105\u001b[0m                              Column(data=dec, name='dec')])\n",
      "\u001b[0;31mAttributeError\u001b[0m: 'SlicedFITSWCS' object has no attribute 'wcs_pix2world'"
     ]
    }
   ],
   "source": [
    "# reconstruct ladybug data using kuaizi #\n",
    "forced_filters = forced_channels[0] #N708\n",
    "\n",
    "# weights for hsc sep\n",
    "weights_hsc = 1 / np.array([hdu[3].data for hdu in cutout_hsc])\n",
    "\n",
    "# weights for merian \n",
    "weights_merian = 1 / np.array(var_merian[0].data)\n",
    "\n",
    "# psf paddin\n",
    "psf_pad_hsc = padding_PSF(psf_list_hsc)\n",
    "psf_pad_merian = padding_PSF(psf_list_merian)\n",
    "#psf_pad_all = padding_PSF(psf_list_all) # is this needed since they are different psfs entirely?\n",
    "data_hsc = Data(images=images_hsc, weights=weights_hsc, wcs=w_hsc[0], psfs=psf_pad_hsc, channels=channels)\n",
    "data_merian = Data(images = images_merian, weights = weights_merian, wcs = w_merian, psfs = psf_pad_merian, channels = forced_channels)\n",
    "\n",
    "# start fitting in the i-band first, then pass the i-band parameters of target \n",
    "# galaxy to other bands\n",
    "ref_filt = ref_channel[0] # reference channel, ie i-band\n",
    "\n",
    "model_dict = {}\n",
    "\n",
    "model_dict[ref_filt] = tractor_hsc_sep_blob_by_blob(obj, ref_filt, channels, data_hsc, \n",
    "                                       freeze_dict = {'pos': True, 'shape': False, 'sersicindex': False}, \n",
    "                                       verbose=True)\n",
    "\n",
    "sources_dict = {}\n",
    "fig_dict = {}\n",
    "# forced photometry in Merian band #\n",
    "# initiate tractor psf object\n",
    "psf_tractor_merian = tractor.psf.PixelizedPSF(psf_pad_merian[0]) \n",
    "\n",
    "# this function is actually called in tractor_hsc_sep_blob_by_blob\n",
    "#for count, filt in enumerate(forced_channels): \n",
    "#    sources_dict[filt], model_dict[filt], fig_dict[filt] = tractor_blob_by_blob(obj_cat, w_merian, images_merian[0],\n",
    "#                                            invvar = weights_merian, \n",
    "#                                            psf_obj = psf_tractor_merian, \n",
    "#                                            pixel_scale = 0.01, # arbitratily assigned for testing script\n",
    "#                                            freeze_dict = {'pos': True, 'shape': True, 'sersicindex': True},\n",
    "#                                            ref_source=model_dict[ref_filt][0].catalog[model_dict[ref_filt][0].target_ind],\n",
    "#                                            verbose = True\n",
    "#                                           ) \n",
    "\n",
    "for count, filt in enumerate(forced_channels): \n",
    "    model_dict[filt] = tractor_hsc_sep_blob_by_blob(obj, ref_filt, channels, data_merian, \n",
    "                                       freeze_dict = {'pos': True, 'shape': True, 'sersicindex': True}, \n",
    "                                       verbose=True)\n",
    "\n",
    "properties = {}\n",
    "\n",
    "for filt in channels:\n",
    "    properties[filt] = getTargetProperty(model_dict[filt], wcs=data.wcs)\n",
    "\n",
    "catalog = {}\n",
    "\n",
    "for key in [\n",
    "    'ra', 'dec', 'x', 'y', 'flux', 're', 'ab', 'phi', 'sersic', 'type', \n",
    "    'ra_ivar', 'dec_ivar', 'x_ivar', 'y_ivar', 'flux_ivar', 're_ivar',\n",
    "    'ab_ivar', 'phi_ivar', 'sersic_ivar']:\n",
    "    catalog[f'{key}'] = np.array([properties[filt][key] for filt in channels])\n",
    "print(catalog)\n",
    "\n",
    "dicts = [model_dict, catalog]\n",
    "\n",
    "# save dictionaries into a pickle\n",
    "with open(obj_name + '_sep_tractor.pkl', 'wb') as f:\n",
    "    pickle.dump(dicts, f)\n",
    "\n",
    "\n",
    "return model_dict"
   ]
  },
  {
   "cell_type": "code",
   "execution_count": 61,
   "id": "continental-reference",
   "metadata": {},
   "outputs": [
    {
     "ename": "TypeError",
     "evalue": "WCS projection has 2 dimensions, so expected 2 (an Nx2 array and the origin argument) or 3 arguments (the position in each dimension, and the origin argument). Instead, 0 arguments were given.",
     "output_type": "error",
     "traceback": [
      "\u001b[0;31m---------------------------------------------------------------------------\u001b[0m",
      "\u001b[0;31mTypeError\u001b[0m                                 Traceback (most recent call last)",
      "\u001b[0;32m<ipython-input-61-e07e30aab7ae>\u001b[0m in \u001b[0;36m<module>\u001b[0;34m\u001b[0m\n\u001b[1;32m      2\u001b[0m \u001b[0mdatas\u001b[0m \u001b[0;34m=\u001b[0m \u001b[0;34m[\u001b[0m\u001b[0mdata_merian\u001b[0m\u001b[0;34m]\u001b[0m\u001b[0;34m\u001b[0m\u001b[0;34m\u001b[0m\u001b[0m\n\u001b[1;32m      3\u001b[0m \u001b[0;32mif\u001b[0m \u001b[0mlen\u001b[0m\u001b[0;34m(\u001b[0m\u001b[0mdatas\u001b[0m\u001b[0;34m)\u001b[0m \u001b[0;34m==\u001b[0m \u001b[0;36m1\u001b[0m\u001b[0;34m:\u001b[0m\u001b[0;34m\u001b[0m\u001b[0;34m\u001b[0m\u001b[0m\n\u001b[0;32m----> 4\u001b[0;31m     \u001b[0mra\u001b[0m\u001b[0;34m,\u001b[0m \u001b[0mdec\u001b[0m \u001b[0;34m=\u001b[0m \u001b[0mdatas\u001b[0m\u001b[0;34m[\u001b[0m\u001b[0;36m0\u001b[0m\u001b[0;34m]\u001b[0m\u001b[0;34m.\u001b[0m\u001b[0mwcs\u001b[0m\u001b[0;34m[\u001b[0m\u001b[0;36m0\u001b[0m\u001b[0;34m]\u001b[0m\u001b[0;34m.\u001b[0m\u001b[0mwcs_pix2world\u001b[0m\u001b[0;34m(\u001b[0m\u001b[0;34m)\u001b[0m\u001b[0;34m\u001b[0m\u001b[0;34m\u001b[0m\u001b[0m\n\u001b[0m",
      "\u001b[0;32m~/.local/lib/python3.6/site-packages/astropy/wcs/wcs.py\u001b[0m in \u001b[0;36mwcs_pix2world\u001b[0;34m(self, *args, **kwargs)\u001b[0m\n\u001b[1;32m   1412\u001b[0m         return self._array_converter(\n\u001b[1;32m   1413\u001b[0m             \u001b[0;32mlambda\u001b[0m \u001b[0mxy\u001b[0m\u001b[0;34m,\u001b[0m \u001b[0mo\u001b[0m\u001b[0;34m:\u001b[0m \u001b[0mself\u001b[0m\u001b[0;34m.\u001b[0m\u001b[0mwcs\u001b[0m\u001b[0;34m.\u001b[0m\u001b[0mp2s\u001b[0m\u001b[0;34m(\u001b[0m\u001b[0mxy\u001b[0m\u001b[0;34m,\u001b[0m \u001b[0mo\u001b[0m\u001b[0;34m)\u001b[0m\u001b[0;34m[\u001b[0m\u001b[0;34m'world'\u001b[0m\u001b[0;34m]\u001b[0m\u001b[0;34m,\u001b[0m\u001b[0;34m\u001b[0m\u001b[0;34m\u001b[0m\u001b[0m\n\u001b[0;32m-> 1414\u001b[0;31m             'output', *args, **kwargs)\n\u001b[0m\u001b[1;32m   1415\u001b[0m     wcs_pix2world.__doc__ = \"\"\"\n\u001b[1;32m   1416\u001b[0m         \u001b[0mTransforms\u001b[0m \u001b[0mpixel\u001b[0m \u001b[0mcoordinates\u001b[0m \u001b[0mto\u001b[0m \u001b[0mworld\u001b[0m \u001b[0mcoordinates\u001b[0m \u001b[0mby\u001b[0m \u001b[0mdoing\u001b[0m\u001b[0;34m\u001b[0m\u001b[0;34m\u001b[0m\u001b[0m\n",
      "\u001b[0;32m~/.local/lib/python3.6/site-packages/astropy/wcs/wcs.py\u001b[0m in \u001b[0;36m_array_converter\u001b[0;34m(self, func, sky, ra_dec_order, *args)\u001b[0m\n\u001b[1;32m   1334\u001b[0m             \u001b[0;34m\"dimension, and the origin argument). Instead, {2} arguments were \"\u001b[0m\u001b[0;34m\u001b[0m\u001b[0;34m\u001b[0m\u001b[0m\n\u001b[1;32m   1335\u001b[0m             \"given.\".format(\n\u001b[0;32m-> 1336\u001b[0;31m                 self.naxis, self.naxis + 1, len(args)))\n\u001b[0m\u001b[1;32m   1337\u001b[0m \u001b[0;34m\u001b[0m\u001b[0m\n\u001b[1;32m   1338\u001b[0m     \u001b[0;32mdef\u001b[0m \u001b[0mall_pix2world\u001b[0m\u001b[0;34m(\u001b[0m\u001b[0mself\u001b[0m\u001b[0;34m,\u001b[0m \u001b[0;34m*\u001b[0m\u001b[0margs\u001b[0m\u001b[0;34m,\u001b[0m \u001b[0;34m**\u001b[0m\u001b[0mkwargs\u001b[0m\u001b[0;34m)\u001b[0m\u001b[0;34m:\u001b[0m\u001b[0;34m\u001b[0m\u001b[0;34m\u001b[0m\u001b[0m\n",
      "\u001b[0;31mTypeError\u001b[0m: WCS projection has 2 dimensions, so expected 2 (an Nx2 array and the origin argument) or 3 arguments (the position in each dimension, and the origin argument). Instead, 0 arguments were given."
     ]
    }
   ],
   "source": [
    "### what is this error? \n",
    "datas = [data_merian]\n",
    "if len(datas) == 1:\n",
    "    ra, dec = datas[0].wcs[0].wcs_pix2world()\n",
    "\n",
    "# this looks like it works (of course, I do not pass any arguments because in \n",
    "# the original kuaizi.tractor.utils, the arguments are created in makeCatalog)"
   ]
  },
  {
   "cell_type": "code",
   "execution_count": null,
   "id": "hollywood-circulation",
   "metadata": {},
   "outputs": [],
   "source": []
  },
  {
   "cell_type": "code",
   "execution_count": null,
   "id": "actual-hepatitis",
   "metadata": {},
   "outputs": [],
   "source": []
  }
 ],
 "metadata": {
  "kernelspec": {
   "display_name": "Python 3",
   "language": "python",
   "name": "python3"
  },
  "language_info": {
   "codemirror_mode": {
    "name": "ipython",
    "version": 3
   },
   "file_extension": ".py",
   "mimetype": "text/x-python",
   "name": "python",
   "nbconvert_exporter": "python",
   "pygments_lexer": "ipython3",
   "version": "3.6.9"
  }
 },
 "nbformat": 4,
 "nbformat_minor": 5
}
