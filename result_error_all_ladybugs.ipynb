{
 "cells": [
  {
   "cell_type": "code",
   "execution_count": 1,
   "id": "accurate-latin",
   "metadata": {},
   "outputs": [],
   "source": [
    "# import packages\n",
    "%load_ext autoreload\n",
    "%autoreload 2\n",
    "\n",
    "import numpy as np\n",
    "import matplotlib.pyplot as plt\n",
    "\n",
    "import astropy.units as u\n",
    "from astropy import wcs\n",
    "from astropy.io import fits\n",
    "from astropy.table import Table, Column\n",
    "from astropy.coordinates import SkyCoord\n",
    "from astropy.visualization import make_lupton_rgb\n",
    "from astropy.utils.data import download_file, clear_download_cache\n",
    "\n",
    "import kuaizi\n",
    "from kuaizi.display import display_single, SEG_CMAP\n",
    "from kuaizi.download import download_decals_cutout\n",
    "from kuaizi import DECaLS_pixel_scale, DECaLS_zeropoint\n",
    "\n",
    "import pickle\n",
    "from IPython.display import clear_output\n",
    "\n",
    "import scarlet # for generating RGB images (solely for display purposes)\n",
    "\n",
    "from unagi import hsc, config\n",
    "from unagi import plotting\n",
    "from unagi import task, catalog\n"
   ]
  },
  {
   "cell_type": "code",
   "execution_count": 2,
   "id": "velvet-egypt",
   "metadata": {},
   "outputs": [],
   "source": [
    "from tractor.tractor import PixelizedPSF\n",
    "from kuaizi.tractor.utils import tractor_iteration"
   ]
  },
  {
   "cell_type": "code",
   "execution_count": 3,
   "id": "perfect-significance",
   "metadata": {},
   "outputs": [],
   "source": [
    "# load catalog and images\n",
    "obj_cat = Table.read('/home/diana/Research/ladybug_tractor/ladybug/ladybug-2021-03-03.fits')"
   ]
  },
  {
   "cell_type": "code",
   "execution_count": 4,
   "id": "provincial-field",
   "metadata": {},
   "outputs": [
    {
     "data": {
      "text/html": [
       "&lt;Column name=&apos;name&apos; dtype=&apos;bytes13&apos; length=252&gt;\n",
       "<table>\n",
       "<tr><td>ladybug_201_y</td></tr>\n",
       "<tr><td>ladybug_180_y</td></tr>\n",
       "<tr><td>ladybug_158_y</td></tr>\n",
       "<tr><td>ladybug_151_y</td></tr>\n",
       "<tr><td>ladybug_207_y</td></tr>\n",
       "<tr><td>ladybug_105_y</td></tr>\n",
       "<tr><td>ladybug_33_y</td></tr>\n",
       "<tr><td>ladybug_10_y</td></tr>\n",
       "<tr><td>ladybug_175_y</td></tr>\n",
       "<tr><td>ladybug_167_y</td></tr>\n",
       "<tr><td>ladybug_27_y</td></tr>\n",
       "<tr><td>ladybug_32_y</td></tr>\n",
       "<tr><td>...</td></tr>\n",
       "<tr><td>ladybug_251_y</td></tr>\n",
       "<tr><td>ladybug_112_y</td></tr>\n",
       "<tr><td>ladybug_152_y</td></tr>\n",
       "<tr><td>ladybug_136_y</td></tr>\n",
       "<tr><td>ladybug_226_y</td></tr>\n",
       "<tr><td>ladybug_64_y</td></tr>\n",
       "<tr><td>ladybug_113_y</td></tr>\n",
       "<tr><td>ladybug_4_y</td></tr>\n",
       "<tr><td>ladybug_156_y</td></tr>\n",
       "<tr><td>ladybug_22_y</td></tr>\n",
       "<tr><td>ladybug_169_y</td></tr>\n",
       "<tr><td>ladybug_114_y</td></tr>\n",
       "</table>"
      ],
      "text/plain": [
       "<Column name='name' dtype='bytes13' length=252>\n",
       "ladybug_201_y\n",
       "ladybug_180_y\n",
       "ladybug_158_y\n",
       "ladybug_151_y\n",
       "ladybug_207_y\n",
       "ladybug_105_y\n",
       " ladybug_33_y\n",
       " ladybug_10_y\n",
       "ladybug_175_y\n",
       "ladybug_167_y\n",
       " ladybug_27_y\n",
       " ladybug_32_y\n",
       "          ...\n",
       "ladybug_251_y\n",
       "ladybug_112_y\n",
       "ladybug_152_y\n",
       "ladybug_136_y\n",
       "ladybug_226_y\n",
       " ladybug_64_y\n",
       "ladybug_113_y\n",
       "  ladybug_4_y\n",
       "ladybug_156_y\n",
       " ladybug_22_y\n",
       "ladybug_169_y\n",
       "ladybug_114_y"
      ]
     },
     "execution_count": 4,
     "metadata": {},
     "output_type": "execute_result"
    }
   ],
   "source": [
    "obj_cat['name']"
   ]
  },
  {
   "cell_type": "code",
   "execution_count": 8,
   "id": "visible-bread",
   "metadata": {},
   "outputs": [
    {
     "data": {
      "text/plain": [
       "'/home/diana/Research/ladybug_tractor'"
      ]
     },
     "execution_count": 8,
     "metadata": {},
     "output_type": "execute_result"
    }
   ],
   "source": [
    "from kuaizi.tractor.utils import tractor_hsc_sep\n",
    "\n",
    "channels = 'grizy'\n",
    "\n",
    "# save all the files to './output'\n",
    "import os\n",
    "#os.chdir('./output')\n",
    "os.getcwd()"
   ]
  },
  {
   "cell_type": "code",
   "execution_count": 18,
   "id": "elementary-salon",
   "metadata": {},
   "outputs": [
    {
     "name": "stdout",
     "output_type": "stream",
     "text": [
      "### `ladybug_201` g-band\n",
      "# Detected 13 objects\n",
      "result length: \n",
      "2\n"
     ]
    },
    {
     "ename": "IndexError",
     "evalue": "tuple index out of range",
     "output_type": "error",
     "traceback": [
      "\u001b[0;31m---------------------------------------------------------------------------\u001b[0m",
      "\u001b[0;31mIndexError\u001b[0m                                Traceback (most recent call last)",
      "\u001b[0;32m<ipython-input-18-9fc7187d0b07>\u001b[0m in \u001b[0;36m<module>\u001b[0;34m\u001b[0m\n\u001b[1;32m     34\u001b[0m         model_dict[filt] = tractor_hsc_sep(obj, filt, channels, data, \n\u001b[1;32m     35\u001b[0m                                            \u001b[0mbrick_file\u001b[0m\u001b[0;34m=\u001b[0m\u001b[0;34m'/home/diana/Research/research_downloads/survey-bricks.fits.gz'\u001b[0m\u001b[0;34m,\u001b[0m\u001b[0;34m\u001b[0m\u001b[0;34m\u001b[0m\u001b[0m\n\u001b[0;32m---> 36\u001b[0;31m                                            freeze_pos=False, verbose=True)\n\u001b[0m\u001b[1;32m     37\u001b[0m \u001b[0;34m\u001b[0m\u001b[0m\n\u001b[1;32m     38\u001b[0m     \u001b[0;32mwith\u001b[0m \u001b[0mopen\u001b[0m\u001b[0;34m(\u001b[0m\u001b[0mobj_name\u001b[0m \u001b[0;34m+\u001b[0m \u001b[0;34m'_sep_tractor.pkl'\u001b[0m\u001b[0;34m,\u001b[0m \u001b[0;34m'wb'\u001b[0m\u001b[0;34m)\u001b[0m \u001b[0;32mas\u001b[0m \u001b[0mf\u001b[0m\u001b[0;34m:\u001b[0m\u001b[0;34m\u001b[0m\u001b[0;34m\u001b[0m\u001b[0m\n",
      "\u001b[0;32m/usr/local/lib/python3.6/dist-packages/kuaizi-0.1.dev89+g9524ab7.d20210316-py3.6.egg/kuaizi/tractor/utils.py\u001b[0m in \u001b[0;36mtractor_hsc_sep\u001b[0;34m(obj, filt, channels, data, brick_file, freeze_pos, verbose)\u001b[0m\n\u001b[1;32m    770\u001b[0m         \u001b[0mdeblend_nthresh\u001b[0m\u001b[0;34m=\u001b[0m\u001b[0;36m48\u001b[0m\u001b[0;34m,\u001b[0m\u001b[0;34m\u001b[0m\u001b[0;34m\u001b[0m\u001b[0m\n\u001b[1;32m    771\u001b[0m         \u001b[0mdeblend_cont\u001b[0m\u001b[0;34m=\u001b[0m\u001b[0;36m0.005\u001b[0m\u001b[0;34m,\u001b[0m\u001b[0;34m\u001b[0m\u001b[0;34m\u001b[0m\u001b[0m\n\u001b[0;32m--> 772\u001b[0;31m         sky_subtract=True)\n\u001b[0m\u001b[1;32m    773\u001b[0m     \u001b[0;31m# Download DECaLS tractor catalogs and match SEP detection with the tractor catalog\u001b[0m\u001b[0;34m\u001b[0m\u001b[0;34m\u001b[0m\u001b[0;34m\u001b[0m\u001b[0m\n\u001b[1;32m    774\u001b[0m \u001b[0;34m\u001b[0m\u001b[0m\n",
      "\u001b[0;32m/usr/local/lib/python3.6/dist-packages/kuaizi-0.1.dev89+g9524ab7.d20210316-py3.6.egg/kuaizi/tractor/utils.py\u001b[0m in \u001b[0;36mmakeCatalog\u001b[0;34m(datas, layer_ind, mask, lvl, method, convolve, conv_radius, match_gaia, show_fig, visual_gaia, **kwargs)\u001b[0m\n\u001b[1;32m     92\u001b[0m         \u001b[0mresult\u001b[0m \u001b[0;34m=\u001b[0m \u001b[0mwavelet_detection\u001b[0m\u001b[0;34m(\u001b[0m\u001b[0mdetect\u001b[0m\u001b[0;34m,\u001b[0m \u001b[0mmask\u001b[0m\u001b[0;34m=\u001b[0m\u001b[0mmask\u001b[0m\u001b[0;34m,\u001b[0m \u001b[0msigma\u001b[0m\u001b[0;34m=\u001b[0m\u001b[0mlvl\u001b[0m\u001b[0;34m,\u001b[0m \u001b[0mshow_fig\u001b[0m\u001b[0;34m=\u001b[0m\u001b[0mshow_fig\u001b[0m\u001b[0;34m,\u001b[0m \u001b[0;34m**\u001b[0m\u001b[0mkwargs\u001b[0m\u001b[0;34m)\u001b[0m\u001b[0;34m\u001b[0m\u001b[0;34m\u001b[0m\u001b[0m\n\u001b[1;32m     93\u001b[0m     \u001b[0;32melse\u001b[0m\u001b[0;34m:\u001b[0m\u001b[0;34m\u001b[0m\u001b[0;34m\u001b[0m\u001b[0m\n\u001b[0;32m---> 94\u001b[0;31m         \u001b[0mresult\u001b[0m \u001b[0;34m=\u001b[0m \u001b[0mvanilla_detection\u001b[0m\u001b[0;34m(\u001b[0m\u001b[0mdetect\u001b[0m\u001b[0;34m,\u001b[0m \u001b[0mmask\u001b[0m\u001b[0;34m=\u001b[0m\u001b[0mmask\u001b[0m\u001b[0;34m,\u001b[0m \u001b[0msigma\u001b[0m\u001b[0;34m=\u001b[0m\u001b[0mlvl\u001b[0m\u001b[0;34m,\u001b[0m \u001b[0mshow_fig\u001b[0m\u001b[0;34m=\u001b[0m\u001b[0mshow_fig\u001b[0m\u001b[0;34m,\u001b[0m \u001b[0;34m**\u001b[0m\u001b[0mkwargs\u001b[0m\u001b[0;34m)\u001b[0m\u001b[0;34m\u001b[0m\u001b[0;34m\u001b[0m\u001b[0m\n\u001b[0m\u001b[1;32m     95\u001b[0m \u001b[0;34m\u001b[0m\u001b[0m\n\u001b[1;32m     96\u001b[0m     \u001b[0mobj_cat\u001b[0m \u001b[0;34m=\u001b[0m \u001b[0mresult\u001b[0m\u001b[0;34m[\u001b[0m\u001b[0;36m0\u001b[0m\u001b[0;34m]\u001b[0m\u001b[0;34m\u001b[0m\u001b[0;34m\u001b[0m\u001b[0m\n",
      "\u001b[0;32m/usr/local/lib/python3.6/dist-packages/kuaizi-0.1.dev89+g9524ab7.d20210316-py3.6.egg/kuaizi/detection.py\u001b[0m in \u001b[0;36mvanilla_detection\u001b[0;34m(detect_image, mask, sigma, b, f, minarea, deblend_nthresh, deblend_cont, sky_subtract, show_fig, **kwargs)\u001b[0m\n\u001b[1;32m    102\u001b[0m         \u001b[0;32mreturn\u001b[0m \u001b[0mobj_cat\u001b[0m\u001b[0;34m,\u001b[0m \u001b[0msegmap\u001b[0m\u001b[0;34m,\u001b[0m \u001b[0mfig\u001b[0m\u001b[0;34m,\u001b[0m \u001b[0mflux\u001b[0m\u001b[0;34m,\u001b[0m \u001b[0mfluxerr\u001b[0m\u001b[0;34m\u001b[0m\u001b[0;34m\u001b[0m\u001b[0m\n\u001b[1;32m    103\u001b[0m     \u001b[0;32melse\u001b[0m\u001b[0;34m:\u001b[0m\u001b[0;34m\u001b[0m\u001b[0;34m\u001b[0m\u001b[0m\n\u001b[0;32m--> 104\u001b[0;31m         \u001b[0mflux\u001b[0m \u001b[0;34m=\u001b[0m \u001b[0mresult\u001b[0m\u001b[0;34m[\u001b[0m\u001b[0;36m2\u001b[0m\u001b[0;34m]\u001b[0m\u001b[0;34m\u001b[0m\u001b[0;34m\u001b[0m\u001b[0m\n\u001b[0m\u001b[1;32m    105\u001b[0m         \u001b[0mfluxerr\u001b[0m \u001b[0;34m=\u001b[0m \u001b[0mresult\u001b[0m\u001b[0;34m[\u001b[0m\u001b[0;36m3\u001b[0m\u001b[0;34m]\u001b[0m\u001b[0;34m\u001b[0m\u001b[0;34m\u001b[0m\u001b[0m\n\u001b[1;32m    106\u001b[0m         \u001b[0;32mreturn\u001b[0m \u001b[0mobj_cat\u001b[0m\u001b[0;34m,\u001b[0m \u001b[0msegmap\u001b[0m\u001b[0;34m,\u001b[0m \u001b[0mflux\u001b[0m\u001b[0;34m,\u001b[0m \u001b[0mfluxerr\u001b[0m\u001b[0;34m\u001b[0m\u001b[0;34m\u001b[0m\u001b[0m\n",
      "\u001b[0;31mIndexError\u001b[0m: tuple index out of range"
     ]
    }
   ],
   "source": [
    "for obj in obj_cat[:]:\n",
    "    obj_name = obj['name'].rstrip('_y')\n",
    "    obj_id = obj_name.lstrip('ladybug_')\n",
    "    \n",
    "    coord = SkyCoord(obj['ra'], obj['dec'], frame='icrs', unit='deg')\n",
    "\n",
    "    cutout = [\n",
    "        fits.open(\n",
    "            f'/home/diana/Research/ladybug_tractor/ladybug/1/{obj_id}/hsc/ladybug_{obj_id}_{filt}.fits'\n",
    "        ) for filt in channels\n",
    "    ]\n",
    "    psf_list = [\n",
    "        fits.open(\n",
    "            f'/home/diana/Research/ladybug_tractor/ladybug/1/{obj_id}/hsc/ladybug_{obj_id}_{filt}_psf.fits'\n",
    "        ) for filt in channels\n",
    "    ]\n",
    "\n",
    "    # Reconstruct data\n",
    "    from kuaizi.detection import Data\n",
    "    from kuaizi.utils import padding_PSF\n",
    "\n",
    "    images = np.array([hdu[1].data for hdu in cutout])\n",
    "    w = wcs.WCS(cutout[0][1].header) # note: all bands share the same WCS here\n",
    "    filters = list(channels)\n",
    "    weights = 1 / np.array([hdu[3].data for hdu in cutout])\n",
    "    psf_pad = padding_PSF(psf_list) # Padding PSF cutouts from HSC\n",
    "    data = Data(images=images, weights=weights, wcs=w, psfs=psf_pad, channels=channels)\n",
    "    # `data` is an Python object which contains all the information (image, psf, variance, wcs, etc.) about the galaxy\n",
    "    \n",
    "    \n",
    "    # Start fitting\n",
    "    model_dict = {}\n",
    "    for filt in channels:\n",
    "        model_dict[filt] = tractor_hsc_sep(obj, filt, channels, data, \n",
    "                                           brick_file='/home/diana/Research/research_downloads/survey-bricks.fits.gz',\n",
    "                                           freeze_pos=False, verbose=True)\n",
    "    \n",
    "    with open(obj_name + '_sep_tractor.pkl', 'wb') as f:\n",
    "        pickle.dump(model_dict, f)\n",
    "        \n",
    "    ### Make figures into a PDF file (slow)\n",
    "    from fpdf import FPDF\n",
    "    pdf = FPDF()\n",
    "    pdf.add_page()\n",
    "    for k, image in enumerate([obj_name + '_sep_tractor_' + filt + '.png' for filt in channels]):\n",
    "        pdf.image(image, 21, 11 + k * 55, 167, 55)\n",
    "    pdf.output(obj_name + \"_sep_tractor.pdf\", \"F\")\n",
    "\n",
    "    # Visualize our model\n",
    "    from kuaizi.tractor.utils import HiddenPrints\n",
    "    with HiddenPrints():\n",
    "        model_img = np.asarray([model_dict[key].getModelImage(0) for key in channels])\n",
    "\n",
    "    stretch = 1\n",
    "    Q = 0.5\n",
    "    channel_map = scarlet.display.channels_to_rgb(len(channels))\n",
    "\n",
    "    img_rgb = scarlet.display.img_to_rgb(\n",
    "        data.images,\n",
    "        norm=scarlet.display.AsinhMapping(minimum=-0.2, stretch=stretch, Q=Q),\n",
    "        channel_map=channel_map)\n",
    "\n",
    "    model_rgb = scarlet.display.img_to_rgb(\n",
    "        model_img,\n",
    "        norm=scarlet.display.AsinhMapping(minimum=-0.2, stretch=stretch, Q=Q),\n",
    "        channel_map=channel_map)\n",
    "\n",
    "    res_rgb = scarlet.display.img_to_rgb(\n",
    "        data.images - model_img,\n",
    "        norm=scarlet.display.AsinhMapping(minimum=-0.2, stretch=stretch, Q=Q),\n",
    "        channel_map=channel_map)\n",
    "\n",
    "    fig, [ax1, ax2, ax3] = plt.subplots(1, 3, figsize=(14, 8))\n",
    "    ax1.imshow(img_rgb, origin='lower')\n",
    "    ax2.imshow(model_rgb, origin='lower')\n",
    "    ax3.imshow(res_rgb, origin='lower')\n",
    "\n",
    "    for ax in [ax1, ax2, ax3]:\n",
    "        ax.axis('off')\n",
    "\n",
    "    ax1.set_title('HSC Image (grizy)', fontsize=17)\n",
    "    ax2.set_title('Tractor Model', fontsize=17)\n",
    "    ax3.set_title('Residual', fontsize=17)\n",
    "\n",
    "    plt.subplots_adjust(wspace=0.1)\n",
    "    plt.savefig(obj_name + '_sep_tractor_rgb.png', \n",
    "                bbox_inches='tight', \n",
    "                metadata={'Comment': 'Each filter is fit seperately, using the Source Extractor + DECaLS catalog in each filter'})\n",
    "    \n",
    "\n",
    "    #clear_output()\n",
    "    #plt.close()"
   ]
  },
  {
   "cell_type": "code",
   "execution_count": 11,
   "id": "coral-compact",
   "metadata": {},
   "outputs": [],
   "source": [
    "#obj_cat.pprint_all()"
   ]
  },
  {
   "cell_type": "code",
   "execution_count": null,
   "id": "traditional-territory",
   "metadata": {},
   "outputs": [],
   "source": []
  }
 ],
 "metadata": {
  "kernelspec": {
   "display_name": "Python 3",
   "language": "python",
   "name": "python3"
  },
  "language_info": {
   "codemirror_mode": {
    "name": "ipython",
    "version": 3
   },
   "file_extension": ".py",
   "mimetype": "text/x-python",
   "name": "python",
   "nbconvert_exporter": "python",
   "pygments_lexer": "ipython3",
   "version": "3.6.9"
  }
 },
 "nbformat": 4,
 "nbformat_minor": 5
}
